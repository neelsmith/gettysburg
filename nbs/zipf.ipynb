{
 "cells": [
  {
   "cell_type": "markdown",
   "metadata": {},
   "source": [
    "# How similar/how different?\n",
    "\n",
    "## Comparing the five extant texts of the Gettsyburg Address\n",
    "\n",
    "This notebook looks at word lenghts and word frequency.\n",
    "\n"
   ]
  },
  {
   "cell_type": "markdown",
   "metadata": {},
   "source": [
    "## Load texts from github"
   ]
  },
  {
   "cell_type": "code",
   "execution_count": null,
   "metadata": {
    "jupyter": {
     "outputs_hidden": false,
     "source_hidden": false
    },
    "nteract": {
     "transient": {
      "deleting": false
     }
    }
   },
   "outputs": [],
   "source": [
    "import scala.io.Source\n",
    "val names = Vector(\"bancroft\", \"bliss\", \"everett\", \"hay\", \"nicolay\")    \n",
    "val baseUrl = \"https://raw.githubusercontent.com/neelsmith/gettysburg/master/texts/\"\n",
    "val urls = names.map( f => baseUrl + f + \".txt\")\n",
    "val texts = urls.map(u => Source.fromURL(u).getLines.mkString(\"\\n\"))"
   ]
  },
  {
   "cell_type": "markdown",
   "metadata": {
    "jupyter": {
     "outputs_hidden": false,
     "source_hidden": false
    },
    "nteract": {
     "transient": {
      "deleting": false
     }
    }
   },
   "source": [
    "We can zip the names together with the text content and create a map, so that we can retrieve text content by name."
   ]
  },
  {
   "cell_type": "code",
   "execution_count": null,
   "metadata": {
    "jupyter": {
     "outputs_hidden": false,
     "source_hidden": false
    },
    "nteract": {
     "transient": {
      "deleting": false
     }
    }
   },
   "outputs": [],
   "source": [
    "val textsMap = (names zip texts).toMap"
   ]
  },
  {
   "cell_type": "markdown",
   "metadata": {},
   "source": [
    "## Word length\n",
    "\n",
    "We'll use Bancroft's text in this example.\n",
    "\n",
    "We'll split (tokenize) the text on runs of 1 or more white space characters.  For counting purposes, we don't care about case, so we'll create our word list by transforming every word to its lower-case version.\n"
   ]
  },
  {
   "cell_type": "code",
   "execution_count": null,
   "metadata": {},
   "outputs": [],
   "source": [
    "val words = textsMap(\"bancroft\").split(\"[\\\\s]+\").toVector.map(w => w.toLowerCase)"
   ]
  },
  {
   "cell_type": "markdown",
   "metadata": {},
   "source": [
    "## Clustering Vector contents with `groupBy` \n",
    "\n",
    "\n"
   ]
  },
  {
   "cell_type": "code",
   "execution_count": null,
   "metadata": {},
   "outputs": [],
   "source": [
    "val groupedBySize = words.groupBy(w => w.size)"
   ]
  },
  {
   "cell_type": "code",
   "execution_count": null,
   "metadata": {},
   "outputs": [],
   "source": [
    "val sortedKeys = groupedBySize.keySet.toVector.sorted.reverse"
   ]
  },
  {
   "cell_type": "code",
   "execution_count": null,
   "metadata": {},
   "outputs": [],
   "source": [
    "sortedKeys.map { k =>\n",
    "  k + \" characters long: \" + groupedBySize(k).size + \" word(s).\"\n",
    "}"
   ]
  },
  {
   "cell_type": "markdown",
   "metadata": {},
   "source": [
    "## Word frequency\n"
   ]
  },
  {
   "cell_type": "code",
   "execution_count": null,
   "metadata": {},
   "outputs": [],
   "source": [
    "val groupedByWord = words.groupBy(w => w).toVector\n"
   ]
  },
  {
   "cell_type": "code",
   "execution_count": null,
   "metadata": {},
   "outputs": [],
   "source": [
    "val frequencies = groupedByWord.map{ case (word, wordList) => (word, wordList.size)}"
   ]
  },
  {
   "cell_type": "code",
   "execution_count": null,
   "metadata": {},
   "outputs": [],
   "source": [
    "val mostToFewest = frequencies.sortBy{ case (w,freq) => freq }.reverse"
   ]
  },
  {
   "cell_type": "markdown",
   "metadata": {},
   "source": [
    "## Options for plotting in a Jupyter notebook environment\n",
    "\n",
    "Just because it's fun."
   ]
  },
  {
   "cell_type": "markdown",
   "metadata": {},
   "source": [
    "## Configuration\n"
   ]
  },
  {
   "cell_type": "code",
   "execution_count": null,
   "metadata": {},
   "outputs": [],
   "source": [
    "// Make plotly libraries available to this notebook:\n",
    "import $ivy.`org.plotly-scala::plotly-almond:0.7.1`"
   ]
  },
  {
   "cell_type": "code",
   "execution_count": null,
   "metadata": {},
   "outputs": [],
   "source": [
    "// Import plotly libraries, and set display defaults suggested for use in Jupyter NBs:\n",
    "import plotly._, plotly.element._, plotly.layout._, plotly.Almond._\n",
    "repl.pprinter() = repl.pprinter().copy(defaultHeight = 3)"
   ]
  },
  {
   "cell_type": "code",
   "execution_count": null,
   "metadata": {},
   "outputs": [],
   "source": [
    "val items = mostToFewest.map(freq => freq._1)\n",
    "val counts = mostToFewest.map(freq => freq._2)\n",
    "\n",
    "val zipf = Vector(\n",
    "  Bar(x = items, y = counts)\n",
    ")\n",
    "plot(zipf)"
   ]
  }
 ],
 "metadata": {
  "kernelspec": {
   "display_name": "Scala (2.12)",
   "language": "scala",
   "name": "scala212"
  },
  "language_info": {
   "codemirror_mode": "text/x-scala",
   "file_extension": ".scala",
   "mimetype": "text/x-scala",
   "name": "scala",
   "nbconvert_exporter": "script",
   "version": "2.12.10"
  },
  "nteract": {
   "version": "0.21.0"
  }
 },
 "nbformat": 4,
 "nbformat_minor": 4
}
