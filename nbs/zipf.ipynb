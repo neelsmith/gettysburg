{
  "cells": [
    {
      "cell_type": "markdown",
      "source": [
        "# Zipf's Law\n",
        "\n",
        "Does [Zipf's Law](https://en.wikipedia.org/wiki/Zipf%27s_law) apply to a text as short as the Gettysburg Address?  We'll look at the text of Bancroft's version.\n",
        "\n"
      ],
      "metadata": {}
    },
    {
      "cell_type": "markdown",
      "source": [
        "## Load a text from URL"
      ],
      "metadata": {}
    },
    {
      "cell_type": "code",
      "source": [
        "import scala.io.Source\n",
        "val url = \"https://raw.githubusercontent.com/neelsmith/gettysburg/master/texts/bancroft.txt\"\n",
        "val bancroft = Source.fromURL(url).mkString"
      ],
      "outputs": [],
      "execution_count": null,
      "metadata": {
        "jupyter": {
          "outputs_hidden": false,
          "source_hidden": false
        },
        "nteract": {
          "transient": {
            "deleting": false
          }
        },
        "execution": {
          "iopub.status.busy": "2020-06-08T11:03:21.662Z",
          "iopub.execute_input": "2020-06-08T11:03:21.677Z",
          "iopub.status.idle": "2020-06-08T11:05:57.139Z"
        }
      }
    },
    {
      "cell_type": "markdown",
      "source": [
        "## Word length\n",
        "\n",
        "We'll use Bancroft's text in this example.\n",
        "\n",
        "We'll split (tokenize) the text on runs of 1 or more white space characters.  For counting purposes, we don't care about case, so we'll create our word list by transforming every word to its lower-case version.\n"
      ],
      "metadata": {}
    },
    {
      "cell_type": "code",
      "source": [
        "val words = bancroft.split(\"[\\\\s]+\").toVector.map(w => w.toLowerCase)"
      ],
      "outputs": [],
      "execution_count": null,
      "metadata": {
        "execution": {
          "iopub.status.busy": "2020-06-08T11:05:57.157Z",
          "iopub.execute_input": "2020-06-08T11:05:57.167Z"
        }
      }
    },
    {
      "cell_type": "markdown",
      "source": [
        "## Clustering Vector contents with `groupBy` \n",
        "\n",
        "\n"
      ],
      "metadata": {}
    },
    {
      "cell_type": "code",
      "source": [
        "val groupedBySize = words.groupBy(w => w.size)"
      ],
      "outputs": [],
      "execution_count": null,
      "metadata": {}
    },
    {
      "cell_type": "code",
      "source": [
        "val sortedKeys = groupedBySize.keySet.toVector.sorted.reverse"
      ],
      "outputs": [],
      "execution_count": null,
      "metadata": {}
    },
    {
      "cell_type": "code",
      "source": [
        "sortedKeys.map { k =>\n",
        "  k + \" characters long: \" + groupedBySize(k).size + \" word(s).\"\n",
        "}"
      ],
      "outputs": [],
      "execution_count": null,
      "metadata": {}
    },
    {
      "cell_type": "markdown",
      "source": [
        "## Word frequency\n"
      ],
      "metadata": {}
    },
    {
      "cell_type": "code",
      "source": [
        "val groupedByWord = words.groupBy(w => w).toVector\n"
      ],
      "outputs": [],
      "execution_count": null,
      "metadata": {}
    },
    {
      "cell_type": "code",
      "source": [
        "val frequencies = groupedByWord.map{ case (word, wordList) => (word, wordList.size)}"
      ],
      "outputs": [],
      "execution_count": null,
      "metadata": {}
    },
    {
      "cell_type": "code",
      "source": [
        "val mostToFewest = frequencies.sortBy{ case (w,freq) => freq }.reverse"
      ],
      "outputs": [],
      "execution_count": null,
      "metadata": {}
    },
    {
      "cell_type": "markdown",
      "source": [
        "## Options for plotting in a Jupyter notebook environment\n",
        "\n",
        "Just because it's fun."
      ],
      "metadata": {}
    },
    {
      "cell_type": "markdown",
      "source": [
        "## Configuration\n"
      ],
      "metadata": {}
    },
    {
      "cell_type": "code",
      "source": [
        "// Make plotly libraries available to this notebook:\n",
        "import $ivy.`org.plotly-scala::plotly-almond:0.7.1`"
      ],
      "outputs": [],
      "execution_count": null,
      "metadata": {}
    },
    {
      "cell_type": "code",
      "source": [
        "// Import plotly libraries, and set display defaults suggested for use in Jupyter NBs:\n",
        "import plotly._, plotly.element._, plotly.layout._, plotly.Almond._\n",
        "repl.pprinter() = repl.pprinter().copy(defaultHeight = 3)"
      ],
      "outputs": [],
      "execution_count": null,
      "metadata": {}
    },
    {
      "cell_type": "code",
      "source": [
        "val items = mostToFewest.map(freq => freq._1)\n",
        "val counts = mostToFewest.map(freq => freq._2)\n",
        "\n",
        "val zipf = Vector(\n",
        "  Bar(x = items, y = counts)\n",
        ")\n",
        "plot(zipf)"
      ],
      "outputs": [],
      "execution_count": null,
      "metadata": {}
    }
  ],
  "metadata": {
    "kernelspec": {
      "name": "scala",
      "language": "scala",
      "display_name": "Scala"
    },
    "language_info": {
      "name": "scala",
      "version": "2.12.10",
      "mimetype": "text/x-scala",
      "file_extension": ".scala",
      "nbconvert_exporter": "script",
      "codemirror_mode": "text/x-scala"
    },
    "nteract": {
      "version": "0.23.3"
    },
    "kernel_info": {
      "name": "scala"
    }
  },
  "nbformat": 4,
  "nbformat_minor": 4
}