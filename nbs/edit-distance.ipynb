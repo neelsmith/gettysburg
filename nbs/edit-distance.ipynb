{
 "cells": [
  {
   "cell_type": "markdown",
   "metadata": {},
   "source": [
    "# Computing a matrix of Levenshtein distances"
   ]
  },
  {
   "cell_type": "code",
   "execution_count": null,
   "metadata": {},
   "outputs": [],
   "source": [
    "// Set up notebook:\n",
    "val myBT = coursierapi.MavenRepository.of(\"https://dl.bintray.com/neelsmith/maven\")\n",
    "interp.repositories() ++= Seq(myBT)\n"
   ]
  },
  {
   "cell_type": "code",
   "execution_count": null,
   "metadata": {},
   "outputs": [],
   "source": [
    "// Build data\n",
    "import scala.io.Source\n",
    "// construct URLs for the five documents:\n",
    "val names = Vector(\"bancroft\", \"bliss\", \"everett\", \"hay\", \"nicolay\")\n",
    "val baseUrl = \"https://raw.githubusercontent.com/neelsmith/gettysburg/master/texts/\"\n",
    "val urls = names.map( f => baseUrl + f + \".txt\")\n",
    "\n",
    "val texts = urls.map(u => Source.fromURL(u).getLines.mkString(\"\\n\"))\n",
    "val tidier = texts.map(t => t.replaceAll( \"[\\\\.,\\\\-]\", \"\"))"
   ]
  },
  {
   "cell_type": "code",
   "execution_count": null,
   "metadata": {},
   "outputs": [],
   "source": [
    "val corpus = tidier.map(t => t.split(\"\\n\").toVector.filter(_.nonEmpty))\n"
   ]
  },
  {
   "cell_type": "code",
   "execution_count": null,
   "metadata": {},
   "outputs": [],
   "source": [
    "// get corresponding passage from all texts\n",
    "def extractPassage(column: Int) : Vector[String] = {\n",
    "  corpus.map(row => {\n",
    "    if (column >= row.size) {\n",
    "      \"\"\n",
    "    } else {\n",
    "      row(column)\n",
    "    }})\n",
    "}\n"
   ]
  },
  {
   "cell_type": "code",
   "execution_count": null,
   "metadata": {},
   "outputs": [],
   "source": [
    "// Edit distance using Levenshtein method\n",
    "import scala.collection.mutable\n",
    "import scala.collection.parallel.ParSeq\n",
    "\n",
    "// Implementation from RosettaCode:\n",
    "// https://rosettacode.org/wiki/Levenshtein_distance\n",
    "def levenshteinMemo(s1: String, s2: String): mutable.Map[(Int, Int), Int] = {\n",
    "  val memoizedCosts = mutable.Map[(Int, Int), Int]()\n",
    "\n",
    "  def lev: ((Int, Int)) => Int = {\n",
    "    case (k1, k2) =>\n",
    "      memoizedCosts.getOrElseUpdate((k1, k2), (k1, k2) match {\n",
    "        case (i, 0) => i\n",
    "        case (0, j) => j\n",
    "        case (i, j) =>\n",
    "          ParSeq(1 + lev((i - 1, j)),\n",
    "                 1 + lev((i, j - 1)),\n",
    "                 lev((i - 1, j - 1))\n",
    "                   + (if (s1(i - 1) != s2(j - 1)) 1 else 0)).min\n",
    "      })\n",
    "  }\n",
    "  lev((s1.length, s2.length))\n",
    "  memoizedCosts\n",
    "}\n",
    "\n",
    "def editDistance(s1: String, s2: String) : Int = {\n",
    "  levenshteinMemo(s1, s2)((s1.length, s2.length))\n",
    "}"
   ]
  },
  {
   "cell_type": "code",
   "execution_count": null,
   "metadata": {},
   "outputs": [],
   "source": [
    "//\n",
    "// @param baseLine Text of line unit\n",
    "// @param cfTexts list of corresponding unit in all texts\n",
    "def rowData(baseLine: String, cfTexts: Vector[String]) : Vector[Int] = {\n",
    "  val data = for (i <- 0 until cfTexts.size) yield {\n",
    "    editDistance(baseLine, cfTexts(i))\n",
    "  }\n",
    "  data.toVector\n",
    "}\n"
   ]
  },
  {
   "cell_type": "code",
   "execution_count": null,
   "metadata": {},
   "outputs": [],
   "source": [
    "\n",
    "def dataMatrix = for (documentsIndex <- 0 until byLine.size) yield {\n",
    "  println(\"Document index \" + documentsIndex)\n",
    "  val baseText = corpus(documentsIndex)\n",
    "  //val cellCount = byLine.size * byLine.size\n",
    "  val colName = names(documentsIndex)\n",
    "  println(colName)\n",
    "\n",
    "  val dataByLine = for (lineIndex <- 0 until baseText.size) yield {\n",
    "    val baseTextPassage = baseText(lineIndex)\n",
    "    val rowLabel = s\"${colName}.\" + lineIndex\n",
    "    val cfLines = extractPassage(lineIndex)\n",
    "\n",
    "    println(\"Computing ed. distance from \" + rowLabel)\n",
    "    val data = rowData(baseTextPassage, cfLines)\n",
    "    rowLabel + \",\" + data.mkString(\",\")\n",
    "  }\n",
    "  println(\"Done.\")\n",
    "  dataByLine\n",
    "}\n"
   ]
  },
  {
   "cell_type": "code",
   "execution_count": null,
   "metadata": {},
   "outputs": [],
   "source": [
    "val dm = dataMatrix"
   ]
  },
  {
   "cell_type": "code",
   "execution_count": null,
   "metadata": {},
   "outputs": [],
   "source": [
    "val colLabels = \"base,\" + names.mkString(\",\")"
   ]
  },
  {
   "cell_type": "code",
   "execution_count": null,
   "metadata": {},
   "outputs": [],
   "source": [
    "println(colLabels + \"\\n\" + dm.flatten.mkString(\"\\n\"))"
   ]
  },
  {
   "cell_type": "code",
   "execution_count": null,
   "metadata": {},
   "outputs": [],
   "source": [
    "val banc = corpus.head\n",
    "val bliss = corpus(2)"
   ]
  },
  {
   "cell_type": "code",
   "execution_count": null,
   "metadata": {},
   "outputs": [],
   "source": [
    "banc(2)\n",
    "bliss(2)\n",
    "editDistance(banc(2), bliss(2))"
   ]
  }
 ],
 "metadata": {
  "kernelspec": {
   "display_name": "Scala (2.12)",
   "language": "scala",
   "name": "scala212"
  },
  "language_info": {
   "codemirror_mode": "text/x-scala",
   "file_extension": ".scala",
   "mimetype": "text/x-scala",
   "name": "scala",
   "nbconvert_exporter": "script",
   "version": "2.12.10"
  }
 },
 "nbformat": 4,
 "nbformat_minor": 4
}
