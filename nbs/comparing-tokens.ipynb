{
 "cells": [
  {
   "cell_type": "code",
   "execution_count": null,
   "metadata": {},
   "outputs": [],
   "source": [
    "val myBT = coursierapi.MavenRepository.of(\"https://dl.bintray.com/neelsmith/maven\")\n",
    "interp.repositories() ++= Seq(myBT)"
   ]
  },
  {
   "cell_type": "code",
   "execution_count": null,
   "metadata": {},
   "outputs": [],
   "source": [
    "import $ivy.`edu.holycross.shot::seqcomp:2.0.0`\n"
   ]
  },
  {
   "cell_type": "code",
   "execution_count": null,
   "metadata": {},
   "outputs": [],
   "source": [
    "import scala.io.Source\n",
    "// construct URLs for the five documents:\n",
    "val names = Vector(\"bancroft\", \"bliss\", \"everett\", \"hay\", \"nicolay\")\n",
    "val baseUrl = \"https://raw.githubusercontent.com/neelsmith/gettysburg/master/texts/\"\n",
    "val urls = names.map( f => baseUrl + f + \".txt\")\n",
    "\n",
    "val texts = urls.map(u => Source.fromURL(u).getLines.mkString(\"\\n\"))\n",
    "val tidier = texts.map(t => t.replaceAll( \"[\\\\.,\\\\-]\", \"\"))\n",
    "val tokens = tidier.map(_.split(\"\\\\s\").toVector)"
   ]
  },
  {
   "cell_type": "code",
   "execution_count": null,
   "metadata": {},
   "outputs": [],
   "source": [
    "import edu.holycross.shot.seqcomp._\n",
    "\n",
    "val matrix = FeatureMatrix(tokens)"
   ]
  },
  {
   "cell_type": "code",
   "execution_count": null,
   "metadata": {},
   "outputs": [],
   "source": [
    "val labels = \"SCS\" +: names\n"
   ]
  },
  {
   "cell_type": "code",
   "execution_count": null,
   "metadata": {},
   "outputs": [],
   "source": [
    "println(matrix.transpose.prettyPrint(columnLabels = labels, featureSeparator = \"|\"))"
   ]
  },
  {
   "cell_type": "code",
   "execution_count": null,
   "metadata": {},
   "outputs": [],
   "source": [
    "val noScs = FeatureMatrix(matrix.features.tail).transpose\n",
    "\n"
   ]
  },
  {
   "cell_type": "code",
   "execution_count": null,
   "metadata": {},
   "outputs": [],
   "source": [
    "println(noScs.prettyPrint(columnLabels = names, featureSeparator = \"|\"))"
   ]
  },
  {
   "cell_type": "code",
   "execution_count": null,
   "metadata": {},
   "outputs": [],
   "source": [
    "// md table for column-oriented matrix\n",
    "def md[T](m: FeatureMatrix[T], colLabels : Vector[String]) = {\n",
    "  val dashes = for (i <- 0 to m.columns) yield {  \"| --- \"}\n",
    "  val dashLine = dashes.mkString + \" |\"  \n",
    "  val raw = m.prettyPrint(columnLabels = colLabels, featureSeparator = \"|\")\n",
    "  val lines = raw.split(\"\\n\").toVector\n",
    "  val hdr = \"| \" + lines.head + \" |\"\n",
    "  val data = lines.tail.map(l => \"| \" + l + \" |\")\n",
    "  s\"${hdr}\\n${dashLine}\\n\" + data.mkString(\"\\n\")\n",
    "\n",
    "}\n",
    "\n"
   ]
  },
  {
   "cell_type": "code",
   "execution_count": null,
   "metadata": {},
   "outputs": [],
   "source": [
    "println(md(noScs, names))"
   ]
  }
 ],
 "metadata": {
  "kernelspec": {
   "display_name": "Scala (2.12)",
   "language": "scala",
   "name": "scala212"
  },
  "language_info": {
   "codemirror_mode": "text/x-scala",
   "file_extension": ".scala",
   "mimetype": "text/x-scala",
   "name": "scala",
   "nbconvert_exporter": "script",
   "version": "2.12.10"
  }
 },
 "nbformat": 4,
 "nbformat_minor": 4
}
