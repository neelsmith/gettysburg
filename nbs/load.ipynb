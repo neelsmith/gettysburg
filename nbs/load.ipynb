{
 "cells": [
  {
   "cell_type": "markdown",
   "metadata": {},
   "source": [
    "# Comparing the five extant texts of the Gettsyburg Address\n",
    "\n",
    "\n",
    "This notebook loads the five texts from a URL, and counts the number of characters in each."
   ]
  },
  {
   "cell_type": "markdown",
   "metadata": {},
   "source": [
    "### Loading the texts\n",
    "\n",
    "The five texts are available from the `texts` directory of this repository, and are named:\n",
    "\n",
    "- `bancroft.txt`\n",
    "- `bliss.txt`\n",
    "- `everett.txt` \n",
    "- `hay.txt` \n",
    "- `nicolay.txt`\n",
    "\n",
    "We use the `scala.io.Source` object to load String data from the URLs."
   ]
  },
  {
   "cell_type": "code",
   "execution_count": null,
   "metadata": {
    "jupyter": {
     "outputs_hidden": false,
     "source_hidden": false
    },
    "nteract": {
     "transient": {
      "deleting": false
     }
    }
   },
   "outputs": [],
   "source": [
    "import scala.io.Source\n",
    "// construct URLs for the five documents:\n",
    "val names = Vector(\"bancroft\", \"bliss\", \"everett\", \"hay\", \"nicolay\")    \n",
    "val baseUrl = \"https://raw.githubusercontent.com/neelsmith/gettysburg/master/texts/\"\n",
    "val urls = names.map( f => baseUrl + f + \".txt\")"
   ]
  },
  {
   "cell_type": "code",
   "execution_count": null,
   "metadata": {
    "jupyter": {
     "outputs_hidden": false,
     "source_hidden": false
    },
    "nteract": {
     "transient": {
      "deleting": false
     }
    }
   },
   "outputs": [],
   "source": [
    "// Load the texts:\n",
    "val texts = urls.map(u => Source.fromURL(u).mkString)"
   ]
  },
  {
   "cell_type": "markdown",
   "metadata": {},
   "source": [
    "## How long is each document?\n",
    "\n",
    "Count the number of characters in each text: \n"
   ]
  },
  {
   "cell_type": "code",
   "execution_count": null,
   "metadata": {
    "jupyter": {
     "outputs_hidden": false,
     "source_hidden": false
    },
    "nteract": {
     "transient": {
      "deleting": false
     }
    }
   },
   "outputs": [],
   "source": [
    "val sizes = texts.map(t => t.size)"
   ]
  },
  {
   "cell_type": "markdown",
   "metadata": {},
   "source": [
    "To display the results, zip the original list of names together with the list of sizes:"
   ]
  },
  {
   "cell_type": "code",
   "execution_count": null,
   "metadata": {
    "jupyter": {
     "outputs_hidden": false,
     "source_hidden": false
    },
    "nteract": {
     "transient": {
      "deleting": false
     }
    }
   },
   "outputs": [],
   "source": [
    "val labelledSizes = (names zip sizes)\n",
    "for ( (name, size)  <- labelledSizes) {\n",
    "    println(name + \": \" + size + \" characters.\")\n",
    "}"
   ]
  }
 ],
 "metadata": {
  "kernelspec": {
   "display_name": "Scala (2.12)",
   "language": "scala",
   "name": "scala212"
  },
  "language_info": {
   "codemirror_mode": "text/x-scala",
   "file_extension": ".scala",
   "mimetype": "text/x-scala",
   "name": "scala",
   "nbconvert_exporter": "script",
   "version": "2.12.10"
  },
  "nteract": {
   "version": "0.21.0"
  }
 },
 "nbformat": 4,
 "nbformat_minor": 4
}
