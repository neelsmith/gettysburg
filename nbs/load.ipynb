{
  "cells": [
    {
      "cell_type": "markdown",
      "source": [
        "# How similar/how different?\n",
        "\n",
        "## Comparing the five extant texts of the Gettsyburg Address\n",
        "\n",
        "Collect the transcriptions from [abrahamlincononline.org](http://www.abrahamlincolnonline.org/lincoln/speeches/gettysburg.htm).\n",
        "\n"
      ],
      "metadata": {}
    },
    {
      "cell_type": "code",
      "source": [
        "import scala.io.Source\n",
        "val fileNames = Vector(\"bancroft.txt\", \"bliss.txt\", \"everett.txt\", \"hay.txt\", \"nicolay.txt\")    \n",
        "val baseUrl = \"https://raw.githubusercontent.com/neelsmith/gettysburg/master/texts/\"\n",
        "val urls = fileNames.map( f => baseUrl + f)"
      ],
      "outputs": [
        {
          "output_type": "execute_result",
          "execution_count": 1,
          "data": {
            "text/plain": [
              "\u001b[32mimport \u001b[39m\u001b[36mscala.io.Source\n",
              "\u001b[39m\n",
              "\u001b[36mfileNames\u001b[39m: \u001b[32mVector\u001b[39m[\u001b[32mString\u001b[39m] = \u001b[33mVector\u001b[39m(\n",
              "  \u001b[32m\"bancroft.txt\"\u001b[39m,\n",
              "  \u001b[32m\"bliss.txt\"\u001b[39m,\n",
              "  \u001b[32m\"everett.txt\"\u001b[39m,\n",
              "  \u001b[32m\"hay.txt\"\u001b[39m,\n",
              "  \u001b[32m\"nicolay.txt\"\u001b[39m\n",
              ")\n",
              "\u001b[36mbaseUrl\u001b[39m: \u001b[32mString\u001b[39m = \u001b[32m\"https://raw.githubusercontent.com/neelsmith/gettysburg/master/texts/\"\u001b[39m\n",
              "\u001b[36murls\u001b[39m: \u001b[32mVector\u001b[39m[\u001b[32mString\u001b[39m] = \u001b[33mVector\u001b[39m(\n",
              "  \u001b[32m\"https://raw.githubusercontent.com/neelsmith/gettysburg/master/texts/bancroft.txt\"\u001b[39m,\n",
              "  \u001b[32m\"https://raw.githubusercontent.com/neelsmith/gettysburg/master/texts/bliss.txt\"\u001b[39m,\n",
              "  \u001b[32m\"https://raw.githubusercontent.com/neelsmith/gettysburg/master/texts/everett.txt\"\u001b[39m,\n",
              "  \u001b[32m\"https://raw.githubusercontent.com/neelsmith/gettysburg/master/texts/hay.txt\"\u001b[39m,\n",
              "  \u001b[32m\"https://raw.githubusercontent.com/neelsmith/gettysburg/master/texts/nicolay.txt\"\u001b[39m\n",
              ")"
            ]
          },
          "metadata": {}
        }
      ],
      "execution_count": 1,
      "metadata": {
        "collapsed": false,
        "jupyter": {
          "source_hidden": false,
          "outputs_hidden": false
        },
        "nteract": {
          "transient": {
            "deleting": false
          }
        }
      }
    },
    {
      "cell_type": "code",
      "source": [
        "val texts = urls.map(u => Source.fromURL(u).getLines.mkString(\"\\n\"))"
      ],
      "outputs": [
        {
          "output_type": "execute_result",
          "execution_count": 2,
          "data": {
            "text/plain": [
              "\u001b[36mtexts\u001b[39m: \u001b[32mVector\u001b[39m[\u001b[32mString\u001b[39m] = \u001b[33mVector\u001b[39m(\n",
              "  \u001b[32m\"\"\"Four score and seven years ago our fathers brought forth, on this continent, a new nation, conceived in Liberty, and dedicated to the proposition that all men are created equal.\n",
              "\n",
              "Now we are engaged in a great civil war, testing whether that nation, or any nation so conceived, and so dedicated, can long endure. We are met on a great battle-field of that war. We have come to dedicate a portion of that field, as a final resting-place for those who here gave their lives, that that nation might live. It is altogether fitting and proper that we should do this.\n",
              "\n",
              "But, in a larger sense, we can not dedicate, we can not consecrate we can not hallow this ground. The brave men, living and dead, who struggled here, have consecrated it far above our poor power to add or detract. The world will little note, nor long remember what we say here, but it can never forget what they did here. It is for us the living, rather, to be dedicated here to the unfinished work which they who fought here have thus far so nobly advanced. It is rather for us to be here dedicated to the great task remaining before us that from these honored dead we take increased devotion to that cause for which they here gave the last full measure of devotion - that we here highly resolve that these dead shall not have died in vain that this nation, under God, shall have a new birth of freedom, and that government of the people, by the people, for the people, shall not perish from the earth.\"\"\"\u001b[39m,\n",
              "  \u001b[32m\"\"\"Four score and seven years ago our fathers brought forth on this continent, a new nation, conceived in Liberty, and dedicated to the proposition that all men are created equal.\n",
              "\n",
              "Now we are engaged in a great civil war, testing whether that nation, or any nation so conceived and so dedicated, can long endure. We are met on a great battle-field of that war. We have come to dedicate a portion of that field, as a final resting place for those who here gave their lives that that nation might live. It is altogether fitting and proper that we should do this.\n",
              "\n",
              "But, in a larger sense, we can not dedicate -- we can not consecrate -- we can not hallow -- this ground. The brave men, living and dead, who struggled here, have consecrated it, far above our poor power to add or detract. The world will little note, nor long remember what we say here, but it can never forget what they did here. It is for us the living, rather, to be dedicated here to the unfinished work which they who fought here have thus far so nobly advanced. It is rather\u001b[39m..."
            ]
          },
          "metadata": {}
        }
      ],
      "execution_count": 2,
      "metadata": {
        "collapsed": false,
        "jupyter": {
          "source_hidden": false,
          "outputs_hidden": false
        },
        "nteract": {
          "transient": {
            "deleting": false
          }
        }
      }
    },
    {
      "cell_type": "code",
      "source": [
        "val sizes = texts.map(t => t.size)\n"
      ],
      "outputs": [
        {
          "output_type": "execute_result",
          "execution_count": 3,
          "data": {
            "text/plain": [
              "\u001b[36msizes\u001b[39m: \u001b[32mVector\u001b[39m[\u001b[32mInt\u001b[39m] = \u001b[33mVector\u001b[39m(\u001b[32m1465\u001b[39m, \u001b[32m1475\u001b[39m, \u001b[32m1469\u001b[39m, \u001b[32m1434\u001b[39m, \u001b[32m1275\u001b[39m)"
            ]
          },
          "metadata": {}
        }
      ],
      "execution_count": 3,
      "metadata": {
        "collapsed": false,
        "jupyter": {
          "source_hidden": false,
          "outputs_hidden": false
        },
        "nteract": {
          "transient": {
            "deleting": false
          }
        }
      }
    },
    {
      "cell_type": "code",
      "source": [
        "val labelledSizes = (fileNames zip sizes).sortBy(_._2).reverse"
      ],
      "outputs": [
        {
          "output_type": "execute_result",
          "execution_count": 15,
          "data": {
            "text/plain": [
              "\u001b[36mlabelledSizes\u001b[39m: \u001b[32mVector\u001b[39m[(\u001b[32mString\u001b[39m, \u001b[32mInt\u001b[39m)] = \u001b[33mVector\u001b[39m(\n",
              "  (\u001b[32m\"bliss.txt\"\u001b[39m, \u001b[32m1475\u001b[39m),\n",
              "  (\u001b[32m\"everett.txt\"\u001b[39m, \u001b[32m1469\u001b[39m),\n",
              "  (\u001b[32m\"bancroft.txt\"\u001b[39m, \u001b[32m1465\u001b[39m),\n",
              "  (\u001b[32m\"hay.txt\"\u001b[39m, \u001b[32m1434\u001b[39m),\n",
              "  (\u001b[32m\"nicolay.txt\"\u001b[39m, \u001b[32m1275\u001b[39m)\n",
              ")"
            ]
          },
          "metadata": {}
        }
      ],
      "execution_count": 15,
      "metadata": {}
    },
    {
      "cell_type": "code",
      "source": [
        "for (doc <- labelledSizes) {\n",
        "    println(doc)\n",
        "}"
      ],
      "outputs": [
        {
          "output_type": "stream",
          "name": "stdout",
          "text": [
            "(bliss.txt,1475)\n",
            "(everett.txt,1469)\n",
            "(bancroft.txt,1465)\n",
            "(hay.txt,1434)\n",
            "(nicolay.txt,1275)\n"
          ]
        }
      ],
      "execution_count": 17,
      "metadata": {
        "collapsed": false,
        "jupyter": {
          "source_hidden": false,
          "outputs_hidden": false
        },
        "nteract": {
          "transient": {
            "deleting": false
          }
        }
      }
    },
    {
      "cell_type": "code",
      "source": [],
      "outputs": [],
      "execution_count": null,
      "metadata": {
        "collapsed": false,
        "jupyter": {
          "source_hidden": false,
          "outputs_hidden": false
        },
        "nteract": {
          "transient": {
            "deleting": false
          }
        }
      }
    },
    {
      "cell_type": "markdown",
      "source": [
        "## LCS, SCS\n",
        "\n",
        "- by character\n",
        "- by token\n",
        "- by lexeme"
      ],
      "metadata": {}
    },
    {
      "cell_type": "markdown",
      "source": [
        "## Levenshtein edit distance\n",
        "\n",
        "- by character\n",
        "- by token\n",
        "- by lexeme"
      ],
      "metadata": {}
    },
    {
      "cell_type": "markdown",
      "source": [
        "## n-gram similarity\n",
        "\n",
        "- by character\n",
        "- by token\n",
        "- by lexeme"
      ],
      "metadata": {}
    }
  ],
  "metadata": {
    "kernelspec": {
      "display_name": "Scala (2.12)",
      "language": "scala",
      "name": "scala212"
    },
    "language_info": {
      "name": "scala",
      "version": "2.12.10",
      "mimetype": "text/x-scala",
      "file_extension": ".scala",
      "nbconvert_exporter": "script",
      "codemirror_mode": "text/x-scala"
    },
    "nteract": {
      "version": "0.21.0"
    }
  },
  "nbformat": 4,
  "nbformat_minor": 4
}