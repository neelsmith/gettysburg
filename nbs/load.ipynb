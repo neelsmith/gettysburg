{
 "cells": [
  {
   "cell_type": "markdown",
   "metadata": {},
   "source": [
    "# How similar/how different?\n",
    "\n",
    "## Comparing the five extant texts of the Gettsyburg Address\n",
    "\n",
    "This notebook loads five texts of the Gettysburg Address from a github repository.\n",
    "\n",
    "(The texts are taken from [abrahamlincononline.org](http://www.abrahamlincolnonline.org/lincoln/speeches/gettysburg.htm), where you can find out more about them.)\n",
    "\n"
   ]
  },
  {
   "cell_type": "code",
   "execution_count": null,
   "metadata": {
    "jupyter": {
     "outputs_hidden": false,
     "source_hidden": false
    },
    "nteract": {
     "transient": {
      "deleting": false
     }
    }
   },
   "outputs": [],
   "source": [
    "import scala.io.Source\n",
    "// construct URLs for the five documents:\n",
    "val names = Vector(\"bancroft\", \"bliss\", \"everett\", \"hay\", \"nicolay\")    \n",
    "val baseUrl = \"https://raw.githubusercontent.com/neelsmith/gettysburg/master/texts/\"\n",
    "val urls = names.map( f => baseUrl + f + \".txt\")"
   ]
  },
  {
   "cell_type": "code",
   "execution_count": null,
   "metadata": {
    "jupyter": {
     "outputs_hidden": false,
     "source_hidden": false
    },
    "nteract": {
     "transient": {
      "deleting": false
     }
    }
   },
   "outputs": [],
   "source": [
    "// Load the texts:\n",
    "val texts = urls.map(u => Source.fromURL(u).getLines.mkString(\"\\n\"))"
   ]
  },
  {
   "cell_type": "markdown",
   "metadata": {},
   "source": [
    "## How long is each document?"
   ]
  },
  {
   "cell_type": "code",
   "execution_count": null,
   "metadata": {
    "jupyter": {
     "outputs_hidden": false,
     "source_hidden": false
    },
    "nteract": {
     "transient": {
      "deleting": false
     }
    }
   },
   "outputs": [],
   "source": [
    "val sizes = texts.map(t => t.size)"
   ]
  },
  {
   "cell_type": "code",
   "execution_count": null,
   "metadata": {},
   "outputs": [],
   "source": [
    "val labelledSizes = (names zip sizes).sortBy(_._2).reverse"
   ]
  },
  {
   "cell_type": "code",
   "execution_count": null,
   "metadata": {
    "jupyter": {
     "outputs_hidden": false,
     "source_hidden": false
    },
    "nteract": {
     "transient": {
      "deleting": false
     }
    }
   },
   "outputs": [],
   "source": [
    "for ( (name, size)  <- labelledSizes) {\n",
    "    println(name + \": \" + size + \" characters.\")\n",
    "}"
   ]
  }
 ],
 "metadata": {
  "kernelspec": {
   "display_name": "Scala (2.12)",
   "language": "scala",
   "name": "scala212"
  },
  "language_info": {
   "codemirror_mode": "text/x-scala",
   "file_extension": ".scala",
   "mimetype": "text/x-scala",
   "name": "scala",
   "nbconvert_exporter": "script",
   "version": "2.12.10"
  },
  "nteract": {
   "version": "0.21.0"
  }
 },
 "nbformat": 4,
 "nbformat_minor": 4
}
