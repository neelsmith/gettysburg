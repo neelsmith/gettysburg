{
 "cells": [
  {
   "cell_type": "markdown",
   "metadata": {},
   "source": [
    "# How similar/how different?\n",
    "\n",
    "## Comparing the five extant texts of the Gettsyburg Address\n",
    "\n"
   ]
  },
  {
   "cell_type": "markdown",
   "metadata": {
    "nteract": {
     "transient": {
      "deleting": false
     }
    }
   },
   "source": [
    "- [load data from github](nbs/load.ipynb)\n",
    "- [word sizes and word frequencies](nbs/zipf.ipynb)\n",
    "- [Zipf's Law](nbs/zipf.ipynb)"
   ]
  },
  {
   "cell_type": "markdown",
   "metadata": {},
   "source": [
    "## LCS, SCS\n",
    "\n",
    "- by character\n",
    "- by token\n",
    "- by lexeme"
   ]
  },
  {
   "cell_type": "markdown",
   "metadata": {},
   "source": [
    "## Levenshtein edit distance\n",
    "\n",
    "- by character\n",
    "- by token\n",
    "- by lexeme"
   ]
  },
  {
   "cell_type": "markdown",
   "metadata": {},
   "source": [
    "## n-gram similarity\n",
    "\n",
    "- by character\n",
    "- by token\n",
    "- by lexeme"
   ]
  }
 ],
 "metadata": {
  "kernelspec": {
   "display_name": "Scala (2.12)",
   "language": "scala",
   "name": "scala212"
  },
  "language_info": {
   "codemirror_mode": "text/x-scala",
   "file_extension": ".scala",
   "mimetype": "text/x-scala",
   "name": "scala",
   "nbconvert_exporter": "script",
   "version": "2.12.10"
  },
  "nteract": {
   "version": "0.21.0"
  }
 },
 "nbformat": 4,
 "nbformat_minor": 4
}
